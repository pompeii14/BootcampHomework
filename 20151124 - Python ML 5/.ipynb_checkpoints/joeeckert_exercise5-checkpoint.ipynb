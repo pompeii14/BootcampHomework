{
 "cells": [
  {
   "cell_type": "markdown",
   "metadata": {},
   "source": [
    "## Homework\n"
   ]
  },
  {
   "cell_type": "code",
   "execution_count": 20,
   "metadata": {
    "collapsed": true
   },
   "outputs": [],
   "source": [
    "import numpy as np\n",
    "import random\n",
    "import matplotlib.pyplot as plt\n",
    "%matplotlib inline"
   ]
  },
  {
   "cell_type": "markdown",
   "metadata": {},
   "source": [
    "Write you own **K-means** function. This time we will try to write a function to implement the K-means algorithm step by step.\n",
    "\n",
    "1.The first step of K-means is to initialize some centroids randomly. \n",
    "\n",
    "We can sample some observation as centroids. Write a function **generate_centroid**, given a data set **features** and a number **k**, return **k** observations which are sampled from **features**.(*Hint: the function np.random.choice may be useful.*)"
   ]
  },
  {
   "cell_type": "code",
   "execution_count": 3,
   "metadata": {
    "collapsed": true
   },
   "outputs": [],
   "source": [
    "def generate_centroid(features, k):\n",
    "    ## features: the original data, should be a array\n",
    "    ## k: number of centroids\n",
    "    \n",
    "    # your codes here #\n",
    "    centroid = np.array(random.sample(features,k))\n",
    "    \n",
    "    return centroid"
   ]
  },
  {
   "cell_type": "markdown",
   "metadata": {},
   "source": [
    "#### Example 1:\n",
    "<img src=http://slides.nycdatascience.com/BOOTCAMP2/content/week9/pic/ex1.png width=900/>"
   ]
  },
  {
   "cell_type": "code",
   "execution_count": 5,
   "metadata": {
    "collapsed": false
   },
   "outputs": [
    {
     "name": "stdout",
     "output_type": "stream",
     "text": [
      "Random Array\n",
      "[[ 0.67354307  0.22794439]\n",
      " [ 0.36175379  0.72143845]\n",
      " [ 0.21791282  0.58482182]\n",
      " [ 0.27100482  0.88394582]\n",
      " [ 0.47679191  0.21436871]]\n",
      "Centroids\n",
      "[[ 0.36175379  0.72143845]\n",
      " [ 0.67354307  0.22794439]]\n"
     ]
    }
   ],
   "source": [
    "x = np.random.rand(5,2)\n",
    "print \"Random Array\"\n",
    "print x\n",
    "cen = generate_centroid(x, 2)\n",
    "print \"Centroids\"\n",
    "print cen"
   ]
  },
  {
   "cell_type": "markdown",
   "metadata": {},
   "source": [
    "2.The second step is calculating the distance between each observation and each centroid. \n",
    "\n",
    "Write a function **get_distance**, given a data set **features** and a parameter **centroid**, return the **distance**(the euclidean distance) between each observation and each centroid. The element of **distance** in the $i$th row and $j$th column should be the distance between $i$th observation and $j$th centroid."
   ]
  },
  {
   "cell_type": "code",
   "execution_count": 11,
   "metadata": {
    "collapsed": true
   },
   "outputs": [],
   "source": [
    "import numpy as np\n",
    "def get_distance(features, centroid):\n",
    "    ## features: the original data, should be a array\n",
    "    ## centroid: the centroids of the clusters\n",
    "    \n",
    "    # your codes here#\n",
    "    distance = np.array([[np.sqrt((x[0] - c[0])**2 + (x[1] - c[1])**2) for c in centroid] for x in features])\n",
    "    \n",
    "    return distance"
   ]
  },
  {
   "cell_type": "markdown",
   "metadata": {},
   "source": [
    "#### Example 2:\n",
    "<img src=http://slides.nycdatascience.com/BOOTCAMP2/content/week9/pic/ex2.png width=900/>"
   ]
  },
  {
   "cell_type": "code",
   "execution_count": 12,
   "metadata": {
    "collapsed": false
   },
   "outputs": [
    {
     "name": "stdout",
     "output_type": "stream",
     "text": [
      "Centroids\n",
      "[[ 0.36175379  0.72143845]\n",
      " [ 0.67354307  0.22794439]]\n",
      "Distances\n",
      "[[ 0.58373704  0.        ]\n",
      " [ 0.          0.58373704]\n",
      " [ 0.19837925  0.57875765]\n",
      " [ 0.18612904  0.76965896]\n",
      " [ 0.51995528  0.19721896]]\n"
     ]
    }
   ],
   "source": [
    "print \"Centroids\"\n",
    "print cen\n",
    "print \"Distances\"\n",
    "print get_distance(x, cen)"
   ]
  },
  {
   "cell_type": "markdown",
   "metadata": {},
   "source": [
    "3.The third step is to label each observation by the closest cluster. Here is a function **get_label**, given a distance matrix, return the index of minimal number in each row. You need to do nothing in this step."
   ]
  },
  {
   "cell_type": "code",
   "execution_count": 13,
   "metadata": {
    "collapsed": true
   },
   "outputs": [],
   "source": [
    "def get_label(distance):\n",
    "    return distance.argmin(1) "
   ]
  },
  {
   "cell_type": "markdown",
   "metadata": {},
   "source": [
    "#### Example 3:\n",
    "<img src=http://slides.nycdatascience.com/BOOTCAMP2/content/week9/pic/ex3.png width=900/>"
   ]
  },
  {
   "cell_type": "code",
   "execution_count": 14,
   "metadata": {
    "collapsed": false
   },
   "outputs": [
    {
     "name": "stdout",
     "output_type": "stream",
     "text": [
      "Distance\n",
      "[[ 0.58373704  0.        ]\n",
      " [ 0.          0.58373704]\n",
      " [ 0.19837925  0.57875765]\n",
      " [ 0.18612904  0.76965896]\n",
      " [ 0.51995528  0.19721896]]\n",
      "Cluster Labels\n",
      "[1 0 0 0 1]\n"
     ]
    }
   ],
   "source": [
    "distance = get_distance(x, cen)\n",
    "print \"Distance\"\n",
    "print distance\n",
    "print \"Cluster Labels\"\n",
    "print get_label(distance)"
   ]
  },
  {
   "cell_type": "markdown",
   "metadata": {},
   "source": [
    "4.The fourth step is to update the centroids after labeling the observations. \n",
    "\n",
    "Write a function **get_centroid**, given a data set **features** and a parameter **label**, return the centroids of the cluster."
   ]
  },
  {
   "cell_type": "code",
   "execution_count": 15,
   "metadata": {
    "collapsed": true
   },
   "outputs": [],
   "source": [
    "def get_centroid(features, label):\n",
    "    # your codes here #\n",
    "    ###################\n",
    "    # Here is an idea if you have no idea:\n",
    "    # 1. get the unique labels\n",
    "    # 2. get the length of the unique labels\n",
    "    # 3. write a loop, calculate a centroid in each loop.\n",
    "    # 4. return all the centroids\n",
    "    ###################\n",
    "    \n",
    "    centroid = np.array([np.mean(features[label == i,], axis = 0) for i in np.unique(label)])\n",
    "    \n",
    "    return centroid"
   ]
  },
  {
   "cell_type": "markdown",
   "metadata": {},
   "source": [
    "#### Example 4:\n",
    "<img src=http://slides.nycdatascience.com/BOOTCAMP2/content/week9/pic/ex4.png width=900/>"
   ]
  },
  {
   "cell_type": "code",
   "execution_count": 16,
   "metadata": {
    "collapsed": false
   },
   "outputs": [
    {
     "name": "stdout",
     "output_type": "stream",
     "text": [
      "Cluster Labels\n",
      "[1 0 0 0 1]\n",
      "Centroids\n",
      "[[ 0.28355714  0.7300687 ]\n",
      " [ 0.57516749  0.22115655]]\n"
     ]
    }
   ],
   "source": [
    "label = get_label(distance)\n",
    "print \"Cluster Labels\"\n",
    "print label\n",
    "print \"Centroids\"\n",
    "print get_centroid(x, label)"
   ]
  },
  {
   "cell_type": "markdown",
   "metadata": {},
   "source": [
    "5.At last, write a function **kmeans** to combine the functions together. You do not need to do anything in this step.\n",
    "\n",
    "(1)Given a data set **x** and a number **k**\n",
    "\n",
    "(2)Generate **k** samples from the dataset\n",
    "\n",
    "(3)Update the centroids and labels until it converge\n",
    "\n",
    "(4)Return the label and centroids"
   ]
  },
  {
   "cell_type": "code",
   "execution_count": 17,
   "metadata": {
    "collapsed": true
   },
   "outputs": [],
   "source": [
    "def kmeans(x, k, centroid = None, max_itre = 300):\n",
    "    if centroid == None:\n",
    "        centroid = generate_centroid(x, k)\n",
    "    i = 0\n",
    "    while i <= max_itre:\n",
    "        i += 1\n",
    "        distance = get_distance(x, centroid)\n",
    "        label = get_label(distance)\n",
    "        centroid_update = get_centroid(x, label)\n",
    "        if np.all(centroid_update == centroid):\n",
    "            break\n",
    "        else:\n",
    "            centroid = centroid_update\n",
    "    return label, centroid"
   ]
  },
  {
   "cell_type": "markdown",
   "metadata": {},
   "source": [
    "6.Test the **kmeans** function.\n",
    "\n",
    "(1)Generate two groups of samples separately and combine them together\n",
    "\n",
    "(2)Use the **kmeans** function to test the data set. Return the labels and centroids\n",
    "\n",
    "(3)Make a scatter plot and color each observation by its group"
   ]
  },
  {
   "cell_type": "code",
   "execution_count": 42,
   "metadata": {
    "collapsed": false
   },
   "outputs": [],
   "source": [
    "set1 = np.random.rand(25,2) * 3\n",
    "set2 = np.random.rand(25,2) * 3\n",
    "ranData = np.concatenate((set1,set2))\n",
    "\n",
    "labels, centroids = kmeans(ranData, 2)"
   ]
  },
  {
   "cell_type": "code",
   "execution_count": 43,
   "metadata": {
    "collapsed": false
   },
   "outputs": [
    {
     "data": {
      "text/plain": [
       "<matplotlib.collections.PathCollection at 0x109dd9190>"
      ]
     },
     "execution_count": 43,
     "metadata": {},
     "output_type": "execute_result"
    },
    {
     "data": {
      "image/png": "[encoded data removed]",
      "text/plain": [
       "<matplotlib.figure.Figure at 0x10a3e3f90>"
      ]
     },
     "metadata": {},
     "output_type": "display_data"
    }
   ],
   "source": [
    "plt.scatter(ranData[:,0], ranData[:,1], c = labels)"
   ]
  },
  {
   "cell_type": "code",
   "execution_count": null,
   "metadata": {
    "collapsed": true
   },
   "outputs": [],
   "source": []
  }
 ],
 "metadata": {
  "kernelspec": {
   "display_name": "Python 2",
   "language": "python",
   "name": "python2"
  },
  "language_info": {
   "codemirror_mode": {
    "name": "ipython",
    "version": 2
   },
   "file_extension": ".py",
   "mimetype": "text/x-python",
   "name": "python",
   "nbconvert_exporter": "python",
   "pygments_lexer": "ipython2",
   "version": "2.7.10"
  }
 },
 "nbformat": 4,
 "nbformat_minor": 0
}
