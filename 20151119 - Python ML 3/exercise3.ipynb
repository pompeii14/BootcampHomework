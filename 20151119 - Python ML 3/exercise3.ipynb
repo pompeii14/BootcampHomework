{
 "cells": [
  {
   "cell_type": "markdown",
   "metadata": {},
   "source": [
    "## Homework\n",
    "This time we employ the cross validation to figure out the best model for spam filter.\n",
    "\n",
    "1. Use the function **GridSearchCV** to find out the best combination of parameter for logistic regression.( Set *cv=5* and *scoring = 'accuracy'*). "
   ]
  },
  {
   "cell_type": "code",
   "execution_count": null,
   "metadata": {
    "collapsed": true
   },
   "outputs": [],
   "source": [
    "para_grid = [{'penalty': ['l1', 'l2'], 'fit_intercept': [False, True], \n",
    "              'C':np.logspace(-5, 5, 100), 'normalize':True}]"
   ]
  },
  {
   "cell_type": "markdown",
   "metadata": {},
   "source": [
    "    - What's the best combination?\n",
    "    - What's the best score?\n",
    "    - Refit the best estimator on the whole data set. How many coefficients are shrinked to 0?(Hint: the absolute value of coefficients that are smaller than 1e-4.) \n",
    "    - What's the corresponding training error and test error? (Training error is the model performance on spam_train, while test error is the performance on spam_test.)"
   ]
  },
  {
   "cell_type": "code",
   "execution_count": null,
   "metadata": {
    "collapsed": true
   },
   "outputs": [],
   "source": [
    "### your solution"
   ]
  },
  {
   "cell_type": "markdown",
   "metadata": {},
   "source": [
    "2.Set *scoring = 'roc_auc'* and search again, what's the best parameters? Fit the best estimator on the spam_train data set. What's the training error and test error?"
   ]
  },
  {
   "cell_type": "code",
   "execution_count": null,
   "metadata": {
    "collapsed": true
   },
   "outputs": [],
   "source": [
    "### your solution"
   ]
  },
  {
   "cell_type": "markdown",
   "metadata": {},
   "source": [
    "3.In this exercise, we will predict the number of applications received(*Apps*) using the other variables in the College data set.\n",
    "\n",
    "The features and the target variable are prepared as $x$ and $y$."
   ]
  },
  {
   "cell_type": "code",
   "execution_count": 1,
   "metadata": {
    "collapsed": false
   },
   "outputs": [
    {
     "data": {
      "text/html": [
       "<div style=\"max-height:1000px;max-width:1500px;overflow:auto;\">\n",
       "<table border=\"1\" class=\"dataframe\">\n",
       "  <thead>\n",
       "    <tr style=\"text-align: right;\">\n",
       "      <th></th>\n",
       "      <th>Private</th>\n",
       "      <th>Apps</th>\n",
       "      <th>Accept</th>\n",
       "      <th>Enroll</th>\n",
       "      <th>Top10perc</th>\n",
       "      <th>Top25perc</th>\n",
       "      <th>F.Undergrad</th>\n",
       "      <th>P.Undergrad</th>\n",
       "      <th>Outstate</th>\n",
       "      <th>Room.Board</th>\n",
       "      <th>Books</th>\n",
       "      <th>Personal</th>\n",
       "      <th>PhD</th>\n",
       "      <th>Terminal</th>\n",
       "      <th>S.F.Ratio</th>\n",
       "      <th>perc.alumni</th>\n",
       "      <th>Expend</th>\n",
       "      <th>Grad.Rate</th>\n",
       "    </tr>\n",
       "  </thead>\n",
       "  <tbody>\n",
       "    <tr>\n",
       "      <th>0</th>\n",
       "      <td> Yes</td>\n",
       "      <td> 1660</td>\n",
       "      <td> 1232</td>\n",
       "      <td> 721</td>\n",
       "      <td> 23</td>\n",
       "      <td> 52</td>\n",
       "      <td> 2885</td>\n",
       "      <td>  537</td>\n",
       "      <td>  7440</td>\n",
       "      <td> 3300</td>\n",
       "      <td> 450</td>\n",
       "      <td> 2200</td>\n",
       "      <td> 70</td>\n",
       "      <td> 78</td>\n",
       "      <td> 18.1</td>\n",
       "      <td> 12</td>\n",
       "      <td>  7041</td>\n",
       "      <td> 60</td>\n",
       "    </tr>\n",
       "    <tr>\n",
       "      <th>1</th>\n",
       "      <td> Yes</td>\n",
       "      <td> 2186</td>\n",
       "      <td> 1924</td>\n",
       "      <td> 512</td>\n",
       "      <td> 16</td>\n",
       "      <td> 29</td>\n",
       "      <td> 2683</td>\n",
       "      <td> 1227</td>\n",
       "      <td> 12280</td>\n",
       "      <td> 6450</td>\n",
       "      <td> 750</td>\n",
       "      <td> 1500</td>\n",
       "      <td> 29</td>\n",
       "      <td> 30</td>\n",
       "      <td> 12.2</td>\n",
       "      <td> 16</td>\n",
       "      <td> 10527</td>\n",
       "      <td> 56</td>\n",
       "    </tr>\n",
       "    <tr>\n",
       "      <th>2</th>\n",
       "      <td> Yes</td>\n",
       "      <td> 1428</td>\n",
       "      <td> 1097</td>\n",
       "      <td> 336</td>\n",
       "      <td> 22</td>\n",
       "      <td> 50</td>\n",
       "      <td> 1036</td>\n",
       "      <td>   99</td>\n",
       "      <td> 11250</td>\n",
       "      <td> 3750</td>\n",
       "      <td> 400</td>\n",
       "      <td> 1165</td>\n",
       "      <td> 53</td>\n",
       "      <td> 66</td>\n",
       "      <td> 12.9</td>\n",
       "      <td> 30</td>\n",
       "      <td>  8735</td>\n",
       "      <td> 54</td>\n",
       "    </tr>\n",
       "    <tr>\n",
       "      <th>3</th>\n",
       "      <td> Yes</td>\n",
       "      <td>  417</td>\n",
       "      <td>  349</td>\n",
       "      <td> 137</td>\n",
       "      <td> 60</td>\n",
       "      <td> 89</td>\n",
       "      <td>  510</td>\n",
       "      <td>   63</td>\n",
       "      <td> 12960</td>\n",
       "      <td> 5450</td>\n",
       "      <td> 450</td>\n",
       "      <td>  875</td>\n",
       "      <td> 92</td>\n",
       "      <td> 97</td>\n",
       "      <td>  7.7</td>\n",
       "      <td> 37</td>\n",
       "      <td> 19016</td>\n",
       "      <td> 59</td>\n",
       "    </tr>\n",
       "    <tr>\n",
       "      <th>4</th>\n",
       "      <td> Yes</td>\n",
       "      <td>  193</td>\n",
       "      <td>  146</td>\n",
       "      <td>  55</td>\n",
       "      <td> 16</td>\n",
       "      <td> 44</td>\n",
       "      <td>  249</td>\n",
       "      <td>  869</td>\n",
       "      <td>  7560</td>\n",
       "      <td> 4120</td>\n",
       "      <td> 800</td>\n",
       "      <td> 1500</td>\n",
       "      <td> 76</td>\n",
       "      <td> 72</td>\n",
       "      <td> 11.9</td>\n",
       "      <td>  2</td>\n",
       "      <td> 10922</td>\n",
       "      <td> 15</td>\n",
       "    </tr>\n",
       "  </tbody>\n",
       "</table>\n",
       "</div>"
      ],
      "text/plain": [
       "  Private  Apps  Accept  Enroll  Top10perc  Top25perc  F.Undergrad  \\\n",
       "0     Yes  1660    1232     721         23         52         2885   \n",
       "1     Yes  2186    1924     512         16         29         2683   \n",
       "2     Yes  1428    1097     336         22         50         1036   \n",
       "3     Yes   417     349     137         60         89          510   \n",
       "4     Yes   193     146      55         16         44          249   \n",
       "\n",
       "   P.Undergrad  Outstate  Room.Board  Books  Personal  PhD  Terminal  \\\n",
       "0          537      7440        3300    450      2200   70        78   \n",
       "1         1227     12280        6450    750      1500   29        30   \n",
       "2           99     11250        3750    400      1165   53        66   \n",
       "3           63     12960        5450    450       875   92        97   \n",
       "4          869      7560        4120    800      1500   76        72   \n",
       "\n",
       "   S.F.Ratio  perc.alumni  Expend  Grad.Rate  \n",
       "0       18.1           12    7041         60  \n",
       "1       12.2           16   10527         56  \n",
       "2       12.9           30    8735         54  \n",
       "3        7.7           37   19016         59  \n",
       "4       11.9            2   10922         15  "
      ]
     },
     "execution_count": 1,
     "metadata": {},
     "output_type": "execute_result"
    }
   ],
   "source": [
    "import pandas as pd\n",
    "college = pd.read_csv('data/college.csv')\n",
    "x = college.iloc[:, 2:]\n",
    "y = college.iloc[:, 1]\n",
    "college.head()"
   ]
  },
  {
   "cell_type": "markdown",
   "metadata": {},
   "source": [
    "- (1) Split this data into a training set and a test set with train_size=0.5.(Hint: Use the function **sklearn.cross_validation.train_test_split** , set *random_state=0* and *tran_size=0.5*.)\n",
    "\n",
    "- (2) Fit a linear model on the training set and report the training error and test error(mean squared error, you can use the function *sklearn.metrics.mean_squared_error*).\n",
    "\n",
    "- (3) Fit a ridge regression on the training set, with $\\alpha$ chosen by the cross validation. Report the training error and test error.\n",
    "\n",
    "- (4) Fit a lasso on the training set, with $\\alpha$ chosen by the cross validation. Report the training error and test error\n",
    "\n",
    "- (5) Compare the results obtained, what do you find?"
   ]
  },
  {
   "cell_type": "code",
   "execution_count": null,
   "metadata": {
    "collapsed": true
   },
   "outputs": [],
   "source": [
    "### your solution"
   ]
  },
  {
   "cell_type": "markdown",
   "metadata": {},
   "source": [
    "4.This time  we will try to predict the variable *Private* using the other variables in the College data set. The features and target variable are prepared for you."
   ]
  },
  {
   "cell_type": "code",
   "execution_count": 2,
   "metadata": {
    "collapsed": true
   },
   "outputs": [],
   "source": [
    "x = college.iloc[:, 1:]\n",
    "y = college.iloc[:, 0]"
   ]
  },
  {
   "cell_type": "markdown",
   "metadata": {},
   "source": [
    "- (1) Split this data into a training set and a test set with train_size=0.5(Hint: Use the function **sklearn.cross_validation.train_test_split** , set *random_state=1* and *tran_size=0.5*.)]\n",
    "\n",
    "- (2) Fit a logistic regression with regularizaton. Use the function **GridSearchCV** to fint out the best parameters."
   ]
  },
  {
   "cell_type": "code",
   "execution_count": null,
   "metadata": {
    "collapsed": true
   },
   "outputs": [],
   "source": [
    "grid_para_logit = [{'penality': ['l1', 'l2'], 'alpha': np.logspace(-5, 5, 100), 'normalize':[True, False]}]"
   ]
  },
  {
   "cell_type": "markdown",
   "metadata": {},
   "source": [
    "    - What's the best parameters?\n",
    "    - Refit the model on the training set with best parameters. What's the training error and test error?\n",
    "    \n",
    "- (3) Fit a KNN model. Use the function **GridSearchCV** to fint out the appropriate parameter *n_neighbors*. Refit the model on the training set and report the training error and test error.\n",
    "\n",
    "- (4) Compare the results of logistic regression and KNN."
   ]
  },
  {
   "cell_type": "code",
   "execution_count": null,
   "metadata": {
    "collapsed": true
   },
   "outputs": [],
   "source": [
    "### your solution"
   ]
  }
 ],
 "metadata": {
  "kernelspec": {
   "display_name": "Python 2",
   "language": "python",
   "name": "python2"
  },
  "language_info": {
   "codemirror_mode": {
    "name": "ipython",
    "version": 2
   },
   "file_extension": ".py",
   "mimetype": "text/x-python",
   "name": "python",
   "nbconvert_exporter": "python",
   "pygments_lexer": "ipython2",
   "version": "2.7.6"
  }
 },
 "nbformat": 4,
 "nbformat_minor": 0
}
